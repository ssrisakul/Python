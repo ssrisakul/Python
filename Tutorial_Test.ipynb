{
  "nbformat": 4,
  "nbformat_minor": 0,
  "metadata": {
    "colab": {
      "name": "Tutorial Test.ipynb",
      "provenance": [],
      "collapsed_sections": [],
      "authorship_tag": "ABX9TyN3uiUOWpZU2iZ172AHKrdi",
      "include_colab_link": true
    },
    "kernelspec": {
      "name": "python3",
      "display_name": "Python 3"
    }
  },
  "cells": [
    {
      "cell_type": "markdown",
      "metadata": {
        "id": "view-in-github",
        "colab_type": "text"
      },
      "source": [
        "<a href=\"https://colab.research.google.com/github/ssrisakul/Python/blob/master/Tutorial_Test.ipynb\" target=\"_parent\"><img src=\"https://colab.research.google.com/assets/colab-badge.svg\" alt=\"Open In Colab\"/></a>"
      ]
    },
    {
      "cell_type": "markdown",
      "metadata": {
        "id": "SoUuwnP8LkwF",
        "colab_type": "text"
      },
      "source": [
        "##Text Markdown\n",
        "**add note here!!**\n",
        "\n",
        "\n",
        "\n",
        "*   code cell\n",
        "*   text cell\n",
        "\n"
      ]
    },
    {
      "cell_type": "code",
      "metadata": {
        "id": "JLrAJY4xKJfc",
        "colab_type": "code",
        "colab": {
          "base_uri": "https://localhost:8080/",
          "height": 34
        },
        "outputId": "186e70ee-1213-4f5e-efca-e6d1ac69a72e"
      },
      "source": [
        "1+1"
      ],
      "execution_count": 1,
      "outputs": [
        {
          "output_type": "execute_result",
          "data": {
            "text/plain": [
              "2"
            ]
          },
          "metadata": {
            "tags": []
          },
          "execution_count": 1
        }
      ]
    },
    {
      "cell_type": "code",
      "metadata": {
        "id": "qcwrbz-yKlVs",
        "colab_type": "code",
        "colab": {
          "base_uri": "https://localhost:8080/",
          "height": 34
        },
        "outputId": "78c16b96-6a42-4b85-a052-761547e95e4d"
      },
      "source": [
        "2*5"
      ],
      "execution_count": 2,
      "outputs": [
        {
          "output_type": "execute_result",
          "data": {
            "text/plain": [
              "10"
            ]
          },
          "metadata": {
            "tags": []
          },
          "execution_count": 2
        }
      ]
    },
    {
      "cell_type": "markdown",
      "metadata": {
        "id": "OCwJfY2aPxv-",
        "colab_type": "text"
      },
      "source": [
        "##Code Cell"
      ]
    },
    {
      "cell_type": "code",
      "metadata": {
        "id": "YgsN5DWQOmPl",
        "colab_type": "code",
        "colab": {
          "base_uri": "https://localhost:8080/",
          "height": 34
        },
        "outputId": "f638ac74-c2c8-4284-b8d7-8c40eee76d90"
      },
      "source": [
        "print(\"Hello World\")"
      ],
      "execution_count": 12,
      "outputs": [
        {
          "output_type": "stream",
          "text": [
            "Hello World\n"
          ],
          "name": "stdout"
        }
      ]
    },
    {
      "cell_type": "code",
      "metadata": {
        "id": "r3g1q5UgOrxn",
        "colab_type": "code",
        "colab": {
          "base_uri": "https://localhost:8080/",
          "height": 34
        },
        "outputId": "dbb4cf2e-d549-4cde-cf86-eb8fef44ce5b"
      },
      "source": [
        "print(\"Anything\")"
      ],
      "execution_count": 5,
      "outputs": [
        {
          "output_type": "stream",
          "text": [
            "Anything\n"
          ],
          "name": "stdout"
        }
      ]
    },
    {
      "cell_type": "code",
      "metadata": {
        "id": "K2c6k-g7Oxae",
        "colab_type": "code",
        "colab": {}
      },
      "source": [
        "#Basic Calculation"
      ],
      "execution_count": 0,
      "outputs": []
    },
    {
      "cell_type": "code",
      "metadata": {
        "id": "gwT1Dk6-O5yD",
        "colab_type": "code",
        "colab": {
          "base_uri": "https://localhost:8080/",
          "height": 34
        },
        "outputId": "79a16375-6b12-4862-e988-3340c8af3bac"
      },
      "source": [
        "print(1 + 1)"
      ],
      "execution_count": 7,
      "outputs": [
        {
          "output_type": "stream",
          "text": [
            "2\n"
          ],
          "name": "stdout"
        }
      ]
    },
    {
      "cell_type": "code",
      "metadata": {
        "id": "VHAut4x1T1ab",
        "colab_type": "code",
        "colab": {
          "base_uri": "https://localhost:8080/",
          "height": 34
        },
        "outputId": "3c988f5c-c01b-4b40-edd2-621a2bf4d031"
      },
      "source": [
        "print(800 - 20)"
      ],
      "execution_count": 21,
      "outputs": [
        {
          "output_type": "stream",
          "text": [
            "780\n"
          ],
          "name": "stdout"
        }
      ]
    },
    {
      "cell_type": "code",
      "metadata": {
        "id": "31mAVerRO_iZ",
        "colab_type": "code",
        "colab": {
          "base_uri": "https://localhost:8080/",
          "height": 34
        },
        "outputId": "62b3a247-1dd1-44d3-a630-bdf7476f4408"
      },
      "source": [
        "print(2 * 3)"
      ],
      "execution_count": 8,
      "outputs": [
        {
          "output_type": "stream",
          "text": [
            "6\n"
          ],
          "name": "stdout"
        }
      ]
    },
    {
      "cell_type": "code",
      "metadata": {
        "id": "lAnRn2SQUA0b",
        "colab_type": "code",
        "colab": {
          "base_uri": "https://localhost:8080/",
          "height": 34
        },
        "outputId": "8773897b-9d08-4561-a648-936984eb75cd"
      },
      "source": [
        "print(20 / 5)"
      ],
      "execution_count": 25,
      "outputs": [
        {
          "output_type": "stream",
          "text": [
            "4.0\n"
          ],
          "name": "stdout"
        }
      ]
    },
    {
      "cell_type": "code",
      "metadata": {
        "id": "dNzdnr9fUHNs",
        "colab_type": "code",
        "colab": {
          "base_uri": "https://localhost:8080/",
          "height": 34
        },
        "outputId": "5bd0a4e8-5f55-4e27-9ddd-12e7e26f7675"
      },
      "source": [
        "print(4 ** 3)"
      ],
      "execution_count": 24,
      "outputs": [
        {
          "output_type": "stream",
          "text": [
            "64\n"
          ],
          "name": "stdout"
        }
      ]
    },
    {
      "cell_type": "code",
      "metadata": {
        "id": "dgB08zzVUR1m",
        "colab_type": "code",
        "colab": {
          "base_uri": "https://localhost:8080/",
          "height": 34
        },
        "outputId": "c947f5cd-5854-4119-e452-c761b074e816"
      },
      "source": [
        "print(10 % 3)"
      ],
      "execution_count": 26,
      "outputs": [
        {
          "output_type": "stream",
          "text": [
            "1\n"
          ],
          "name": "stdout"
        }
      ]
    },
    {
      "cell_type": "code",
      "metadata": {
        "id": "1n6Orm4DWJdR",
        "colab_type": "code",
        "colab": {
          "base_uri": "https://localhost:8080/",
          "height": 34
        },
        "outputId": "620fafcd-abb1-4bb3-bb06-83cabf89dbc9"
      },
      "source": [
        "print(100 - 5 * 30 / 2)"
      ],
      "execution_count": 30,
      "outputs": [
        {
          "output_type": "stream",
          "text": [
            "25.0\n"
          ],
          "name": "stdout"
        }
      ]
    },
    {
      "cell_type": "code",
      "metadata": {
        "id": "Vhq3NMHLUq1t",
        "colab_type": "code",
        "colab": {}
      },
      "source": [
        "#Create Valuable Using ="
      ],
      "execution_count": 0,
      "outputs": []
    },
    {
      "cell_type": "code",
      "metadata": {
        "id": "j_h5DnOOUvvc",
        "colab_type": "code",
        "colab": {
          "base_uri": "https://localhost:8080/",
          "height": 34
        },
        "outputId": "c7944635-7fc9-408f-a86e-bda0f02d37ed"
      },
      "source": [
        "income = 50000\n",
        "food_expense = 200\n",
        "saving = income - food_expense\n",
        "print(saving)"
      ],
      "execution_count": 29,
      "outputs": [
        {
          "output_type": "stream",
          "text": [
            "49800\n"
          ],
          "name": "stdout"
        }
      ]
    },
    {
      "cell_type": "code",
      "metadata": {
        "id": "b94IoyZuHz5G",
        "colab_type": "code",
        "colab": {
          "base_uri": "https://localhost:8080/",
          "height": 34
        },
        "outputId": "3138ce25-2a73-454e-879d-3cada77715b1"
      },
      "source": [
        "#Example\n",
        "answer = (100 * 2) + (100 ** 2)\n",
        "print(answer)"
      ],
      "execution_count": 1,
      "outputs": [
        {
          "output_type": "stream",
          "text": [
            "10200\n"
          ],
          "name": "stdout"
        }
      ]
    },
    {
      "cell_type": "code",
      "metadata": {
        "id": "Uf6dIlllH7Sb",
        "colab_type": "code",
        "colab": {
          "base_uri": "https://localhost:8080/",
          "height": 151
        },
        "outputId": "1dc9381c-210d-4c03-81a9-862d7490a6d7"
      },
      "source": [
        "#Example\n",
        "answer = 100 + 2 * 3 ** 3\n",
        "print(answer)\n",
        "\n",
        "print(\"\\nexplanation:\\n(A) ** (B) * (C) +\")\n",
        "print(\"3 ** 3 = 27\\n27 * 2 = 54\\n54 + 100 = 154\")\n",
        "print(\"answer = 154\")"
      ],
      "execution_count": 4,
      "outputs": [
        {
          "output_type": "stream",
          "text": [
            "154\n",
            "\n",
            "explanation:\n",
            "(A) ** (B) * (C) +\n",
            "3 ** 3 = 27\n",
            "27 * 2 = 54\n",
            "54 + 100 = 154\n",
            "answer = 154\n"
          ],
          "name": "stdout"
        }
      ]
    },
    {
      "cell_type": "code",
      "metadata": {
        "id": "j5h_nNGMPBUE",
        "colab_type": "code",
        "colab": {}
      },
      "source": [
        "#Basic String"
      ],
      "execution_count": 0,
      "outputs": []
    },
    {
      "cell_type": "code",
      "metadata": {
        "id": "wHcOqgnDPHxk",
        "colab_type": "code",
        "colab": {
          "base_uri": "https://localhost:8080/",
          "height": 34
        },
        "outputId": "df0a1587-ec7f-423e-b2ac-cc96c75e4771"
      },
      "source": [
        "print(\"I am learning Python Programming\" + \"!!!\")"
      ],
      "execution_count": 10,
      "outputs": [
        {
          "output_type": "stream",
          "text": [
            "I am learning Python Programming!!!\n"
          ],
          "name": "stdout"
        }
      ]
    },
    {
      "cell_type": "code",
      "metadata": {
        "id": "UHThim_LTN9G",
        "colab_type": "code",
        "colab": {}
      },
      "source": [
        "#New Line"
      ],
      "execution_count": 0,
      "outputs": []
    },
    {
      "cell_type": "code",
      "metadata": {
        "id": "4s5IMtfYSpwR",
        "colab_type": "code",
        "colab": {
          "base_uri": "https://localhost:8080/",
          "height": 67
        },
        "outputId": "916e8b44-3505-495f-db97-d977c13884b3"
      },
      "source": [
        "print(\"line one\\nline two\\nline three\")"
      ],
      "execution_count": 19,
      "outputs": [
        {
          "output_type": "stream",
          "text": [
            "line one\n",
            "line two\n",
            "line three\n"
          ],
          "name": "stdout"
        }
      ]
    },
    {
      "cell_type": "code",
      "metadata": {
        "id": "7Nr47mU5WbNe",
        "colab_type": "code",
        "colab": {
          "base_uri": "https://localhost:8080/",
          "height": 34
        },
        "outputId": "132cf6b3-f3ab-4743-b585-e30119a5064c"
      },
      "source": [
        "print(\"hello\" * 3)"
      ],
      "execution_count": 31,
      "outputs": [
        {
          "output_type": "stream",
          "text": [
            "hellohellohello\n"
          ],
          "name": "stdout"
        }
      ]
    },
    {
      "cell_type": "markdown",
      "metadata": {
        "id": "ZxevW3aeP8My",
        "colab_type": "text"
      },
      "source": [
        "#Text Cell"
      ]
    },
    {
      "cell_type": "code",
      "metadata": {
        "id": "0cgiyOE0P-Cp",
        "colab_type": "code",
        "colab": {
          "base_uri": "https://localhost:8080/",
          "height": 34
        },
        "outputId": "15cf68bd-c63d-4e50-81e8-fba49ffb25e9"
      },
      "source": [
        "print(\"Hello everyone!\")"
      ],
      "execution_count": 13,
      "outputs": [
        {
          "output_type": "stream",
          "text": [
            "Hello everyone!\n"
          ],
          "name": "stdout"
        }
      ]
    },
    {
      "cell_type": "code",
      "metadata": {
        "id": "meGIuX6HQQtl",
        "colab_type": "code",
        "colab": {
          "base_uri": "https://localhost:8080/",
          "height": 151
        },
        "outputId": "0f0e322a-ecfa-4487-f549-789e3dc33710"
      },
      "source": [
        "while True:\n",
        "  your_answer = input(\"\\nWhat is 2*7 ?\")\n",
        "  if int(your_answer) == 14:\n",
        "    print(\"\\n14! That is correct!\")\n",
        "    break\n",
        "  else:\n",
        "    print(\"\\n Nope. Could you try again?\")"
      ],
      "execution_count": 17,
      "outputs": [
        {
          "output_type": "stream",
          "text": [
            "\n",
            "What is 2*7 ?5\n",
            "\n",
            " Nope. Could you try again?\n",
            "\n",
            "What is 2*7 ?14\n",
            "\n",
            "14! That is correct!\n"
          ],
          "name": "stdout"
        }
      ]
    },
    {
      "cell_type": "markdown",
      "metadata": {
        "id": "jfvd6UvJKCTA",
        "colab_type": "text"
      },
      "source": [
        "##Variable"
      ]
    },
    {
      "cell_type": "code",
      "metadata": {
        "id": "N4s26e-lLCIk",
        "colab_type": "code",
        "colab": {}
      },
      "source": [
        "#Example\n",
        "x = 100\n",
        "y = 200\n",
        "hello_world = \"Hello World\"\n",
        "my_name = \"Sri\""
      ],
      "execution_count": 0,
      "outputs": []
    },
    {
      "cell_type": "code",
      "metadata": {
        "id": "AphgN5_RLFhK",
        "colab_type": "code",
        "colab": {}
      },
      "source": [
        "#Example\n",
        "##Create variables\n",
        "income = 15000\n",
        "food_expense = 5000\n",
        "travel = 3000"
      ],
      "execution_count": 0,
      "outputs": []
    },
    {
      "cell_type": "code",
      "metadata": {
        "id": "7DNpAjb8Lj59",
        "colab_type": "code",
        "colab": {
          "base_uri": "https://localhost:8080/",
          "height": 50
        },
        "outputId": "32ca7b70-2228-4968-a424-ef4ad0946e27"
      },
      "source": [
        "##Calculate Monthly Saving\n",
        "saving = income - food_expense - travel\n",
        "print(\"Monthly Saving:\")\n",
        "print(saving)"
      ],
      "execution_count": 10,
      "outputs": [
        {
          "output_type": "stream",
          "text": [
            "Monthly Saving:\n",
            "7000\n"
          ],
          "name": "stdout"
        }
      ]
    },
    {
      "cell_type": "code",
      "metadata": {
        "id": "X_lgPfu4LwFn",
        "colab_type": "code",
        "colab": {
          "base_uri": "https://localhost:8080/",
          "height": 50
        },
        "outputId": "2a1c0e84-3ac9-4ddc-8de6-1fa3315c8ed2"
      },
      "source": [
        "##Calculate Yearly Saving\n",
        "yearly_saving = saving * 12\n",
        "print(\"Yearly Saving:\")\n",
        "print(yearly_saving)"
      ],
      "execution_count": 11,
      "outputs": [
        {
          "output_type": "stream",
          "text": [
            "Yearly Saving:\n",
            "84000\n"
          ],
          "name": "stdout"
        }
      ]
    },
    {
      "cell_type": "code",
      "metadata": {
        "id": "pDhlP5_sMBQ8",
        "colab_type": "code",
        "colab": {
          "base_uri": "https://localhost:8080/",
          "height": 50
        },
        "outputId": "a6606fd3-6657-4af7-f829-2d96e4eb6080"
      },
      "source": [
        "##Deposit money for the next 10 years with 15% interest rate\n",
        "##How much is the total in the saving account?\n",
        "##Formula: FV = PV*(1+interest)**year\n",
        "\n",
        "FV = yearly_saving * ((1+0.15) ** 10)\n",
        "print(\"The total in the saving account after 10 years:\")\n",
        "print(FV)"
      ],
      "execution_count": 14,
      "outputs": [
        {
          "output_type": "stream",
          "text": [
            "The total in the saving account after 10 years:\n",
            "339826.84979946417\n"
          ],
          "name": "stdout"
        }
      ]
    },
    {
      "cell_type": "code",
      "metadata": {
        "id": "xgsS3en-N0fE",
        "colab_type": "code",
        "colab": {
          "base_uri": "https://localhost:8080/",
          "height": 50
        },
        "outputId": "d80c443e-76b4-4461-b632-6a0a82e9f31d"
      },
      "source": [
        "#Total seconds in a day\n",
        "hour = 24\n",
        "minute = 60\n",
        "total_second = 24 * 60\n",
        "\n",
        "print(\"How many hours are in a day?\")\n",
        "print(total_second)"
      ],
      "execution_count": 16,
      "outputs": [
        {
          "output_type": "stream",
          "text": [
            "How many hours are in a day?\n",
            "1440\n"
          ],
          "name": "stdout"
        }
      ]
    },
    {
      "cell_type": "markdown",
      "metadata": {
        "id": "3sPwAlfmPfv7",
        "colab_type": "text"
      },
      "source": [
        "##Data Types"
      ]
    },
    {
      "cell_type": "code",
      "metadata": {
        "id": "k_WEXoRZPkhm",
        "colab_type": "code",
        "colab": {
          "base_uri": "https://localhost:8080/",
          "height": 84
        },
        "outputId": "941e8cd1-1d51-4ee3-f4c0-47e66fac3a56"
      },
      "source": [
        "#Valiables can be numbers (int/float) \n",
        "#letters/message (string) and True/False (bool)\n",
        "#Checking data types by using type()\n",
        "\n",
        "x = 100\n",
        "print(type(x))\n",
        "\n",
        "y = 2.46\n",
        "print(type(y))\n",
        "\n",
        "z = True\n",
        "print(type(z))\n",
        "\n",
        "k = \"Anthony\"\n",
        "print(type(k))"
      ],
      "execution_count": 18,
      "outputs": [
        {
          "output_type": "stream",
          "text": [
            "<class 'int'>\n",
            "<class 'float'>\n",
            "<class 'bool'>\n",
            "<class 'str'>\n"
          ],
          "name": "stdout"
        }
      ]
    }
  ]
}